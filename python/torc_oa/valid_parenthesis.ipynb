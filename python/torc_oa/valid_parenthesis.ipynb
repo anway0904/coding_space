{
 "cells": [
  {
   "cell_type": "code",
   "execution_count": 57,
   "metadata": {},
   "outputs": [
    {
     "data": {
      "text/plain": [
       "[True, False, False, False, False]"
      ]
     },
     "execution_count": 57,
     "metadata": {},
     "output_type": "execute_result"
    }
   ],
   "source": [
    "testcases = [\"((()))\", \"[]]\", \"[[]\", \"[[\", \"]]]]]]\"]\n",
    "\n",
    "def validate_parenthesis(testcases):\n",
    "\t\n",
    "\tanswers = []\n",
    "\n",
    "\tfor string in testcases:\n",
    "\n",
    "\t\tbracket_stack = []\n",
    "\n",
    "\t\tfor bracket in string:\n",
    "\t\t\tif bracket == '[' or bracket == '(' or bracket == '{':\n",
    "\t\t\t\tbracket_stack.append(bracket)\n",
    "\t\t\t\t\n",
    "\t\t\telse:\n",
    "\t\t\t\ttop = bracket_stack.pop() if bracket_stack else ''\n",
    "\n",
    "\t\t\t\tif (bracket == ']' and top != '[') or \\\n",
    "\t\t\t\t   (bracket == '}' and top != '{') or \\\n",
    "\t\t\t\t   (bracket == ')' and top != '('):\n",
    "\t\t\t\t\tbracket_stack.append(\"#\")\n",
    "\n",
    "\t\tanswers.append(not bracket_stack)\n",
    "\n",
    "\treturn answers\n",
    "\t\t\n",
    "\t\n",
    "validate_parenthesis(testcases)"
   ]
  },
  {
   "cell_type": "code",
   "execution_count": 61,
   "metadata": {},
   "outputs": [
    {
     "name": "stdout",
     "output_type": "stream",
     "text": [
      "2.86 µs ± 309 ns per loop (mean ± std. dev. of 7 runs, 100,000 loops each)\n"
     ]
    }
   ],
   "source": [
    "%timeit validate_parenthesis(testcases)"
   ]
  },
  {
   "cell_type": "code",
   "execution_count": null,
   "metadata": {},
   "outputs": [],
   "source": [
    "\n"
   ]
  }
 ],
 "metadata": {
  "kernelspec": {
   "display_name": "Python 3",
   "language": "python",
   "name": "python3"
  },
  "language_info": {
   "codemirror_mode": {
    "name": "ipython",
    "version": 3
   },
   "file_extension": ".py",
   "mimetype": "text/x-python",
   "name": "python",
   "nbconvert_exporter": "python",
   "pygments_lexer": "ipython3",
   "version": "3.10.11"
  }
 },
 "nbformat": 4,
 "nbformat_minor": 2
}
