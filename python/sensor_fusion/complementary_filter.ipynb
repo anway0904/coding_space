{
 "cells": [
  {
   "cell_type": "code",
   "execution_count": 179,
   "metadata": {},
   "outputs": [],
   "source": [
    "import numpy as np\n",
    "import matplotlib.pyplot as plt"
   ]
  },
  {
   "cell_type": "code",
   "execution_count": 68,
   "metadata": {},
   "outputs": [],
   "source": [
    "class Accelerometer():\n",
    "    def __init__(self):\n",
    "        self.mean_x = 0.048526\n",
    "        self.mean_y = 0.000759\n",
    "        self.mean_z = -9.717405\n",
    "        self.std_x  = 0.011822\n",
    "        self.std_y  = 0.011932\n",
    "        self.std_z  = 0.020968\n",
    "\n",
    "    def get_measurement(self):\n",
    "        x = np.random.normal(self.mean_x, self.std_x)\n",
    "        y = np.random.normal(self.mean_y, self.std_y)\n",
    "        z = np.random.normal(self.mean_z, self.std_z)\n",
    "\n",
    "        return np.array([x, y, z])\n",
    "    \n",
    "class Gyroscope():\n",
    "    def __init__(self):\n",
    "        self.mean_x = 0.000051\n",
    "        self.mean_y = -0.000152\n",
    "        self.mean_z = -0.000009\n",
    "        self.std_x  = 0.000638\n",
    "        self.std_y  = 0.000766\n",
    "        self.std_z  = 0.000638\n",
    "\n",
    "    def get_measurement(self):\n",
    "        x = np.random.normal(self.mean_x, self.std_x)\n",
    "        y = np.random.normal(self.mean_y, self.std_y)\n",
    "        z = np.random.normal(self.mean_z, self.std_z)\n",
    "\n",
    "        return np.array([x, y, z])\n",
    "\n",
    "acc = Accelerometer()\n",
    "gyro = Gyroscope()"
   ]
  },
  {
   "cell_type": "code",
   "execution_count": 188,
   "metadata": {},
   "outputs": [],
   "source": [
    "initial_orientation = [0, 0, 0] # RPY\n",
    "\n",
    "acc_estimate = []\n",
    "for _ in range(10000):\n",
    "    acc_measurement = acc.get_measurement()\n",
    "    roll = np.arccos(acc_measurement[1]/np.linalg.norm(acc_measurement))\n",
    "    pitch = np.arccos(acc_measurement[0]/np.linalg.norm(acc_measurement))\n",
    "\n",
    "    acc_estimate.append(np.array([roll, pitch]))\n",
    "\n",
    "acc_estimate = np.array(acc_estimate)\n",
    "\n",
    "\n",
    "gyro_estimate = []\n",
    "dt = 1/400\n",
    "roll = pitch = 0\n",
    "for _ in range(10000):\n",
    "    gyro_measurement = gyro.get_measurement()\n",
    "    roll  += gyro_measurement[0]*dt\n",
    "    pitch += gyro_measurement[1]*dt\n",
    "\n",
    "    gyro_estimate.append(np.array([roll, pitch]))\n",
    "\n",
    "gyro_estimate = np.array(gyro_estimate)"
   ]
  },
  {
   "cell_type": "code",
   "execution_count": 189,
   "metadata": {},
   "outputs": [
    {
     "data": {
      "text/plain": [
       "[<matplotlib.lines.Line2D at 0x7cc5e01f8d90>]"
      ]
     },
     "execution_count": 189,
     "metadata": {},
     "output_type": "execute_result"
    },
    {
     "data": {
      "image/png": "[encoded data removed]",
      "text/plain": [
       "<Figure size 432x288 with 1 Axes>"
      ]
     },
     "metadata": {
      "needs_background": "light"
     },
     "output_type": "display_data"
    }
   ],
   "source": [
    "plt.plot(gyro_estimate[:,0], gyro_estimate[:,1])"
   ]
  }
 ],
 "metadata": {
  "kernelspec": {
   "display_name": "Python 3",
   "language": "python",
   "name": "python3"
  },
  "language_info": {
   "codemirror_mode": {
    "name": "ipython",
    "version": 3
   },
   "file_extension": ".py",
   "mimetype": "text/x-python",
   "name": "python",
   "nbconvert_exporter": "python",
   "pygments_lexer": "ipython3",
   "version": "3.10.12"
  }
 },
 "nbformat": 4,
 "nbformat_minor": 2
}
