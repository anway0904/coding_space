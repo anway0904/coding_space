{
 "cells": [
  {
   "cell_type": "code",
   "execution_count": 11,
   "metadata": {},
   "outputs": [],
   "source": [
    "class Node():\n",
    "    def __init__(self, val:int = None, next = None):\n",
    "        self.val = val\n",
    "        self.next = next\n",
    "\n",
    "class LinkedList():\n",
    "    def __init__(self):\n",
    "        self.head = Node()\n",
    "    \n",
    "    def __str__(self):\n",
    "        s = \"\"\n",
    "        curr_node = self.head\n",
    "        while curr_node.next is not None:\n",
    "            s += str(curr_node.next.val) + \" --> \"\n",
    "            curr_node = curr_node.next\n",
    "\n",
    "        return s\n",
    "\n",
    "    def add_node(self, val:int):\n",
    "        curr_node = self.head\n",
    "        new_node = Node(val)\n",
    "\n",
    "        while curr_node.next is not None:\n",
    "            if curr_node.next.val > val:\n",
    "                tmp = curr_node.next\n",
    "                curr_node.next = new_node\n",
    "                new_node.next = tmp\n",
    "                return\n",
    "            curr_node = curr_node.next\n",
    "            \n",
    "\n",
    "        curr_node.next = new_node\n",
    "\n",
    "\n",
    "ll = LinkedList()"
   ]
  },
  {
   "cell_type": "code",
   "execution_count": 24,
   "metadata": {},
   "outputs": [
    {
     "name": "stdout",
     "output_type": "stream",
     "text": [
      "The slowest run took 5.16 times longer than the fastest. This could mean that an intermediate result is being cached.\n",
      "2.12 ms ± 1.02 ms per loop (mean ± std. dev. of 7 runs, 10000 loops each)\n"
     ]
    }
   ],
   "source": [
    "%timeit ll.add_node(6)"
   ]
  }
 ],
 "metadata": {
  "kernelspec": {
   "display_name": "Python 3",
   "language": "python",
   "name": "python3"
  },
  "language_info": {
   "codemirror_mode": {
    "name": "ipython",
    "version": 3
   },
   "file_extension": ".py",
   "mimetype": "text/x-python",
   "name": "python",
   "nbconvert_exporter": "python",
   "pygments_lexer": "ipython3",
   "version": "3.10.12"
  }
 },
 "nbformat": 4,
 "nbformat_minor": 2
}
