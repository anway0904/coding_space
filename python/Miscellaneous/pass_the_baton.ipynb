{
 "cells": [
  {
   "cell_type": "markdown",
   "metadata": {},
   "source": [
    "# Pass the baton\n",
    "\n",
    "There are $n$ friends standing in a line, each numbered from $1$ to $n$ inclusive. The first friend holds the baton at time $t=0$. Each second, the baton is passed to the next friend in line. Once it reaches the end of the line, the direction of passing is reversed and passing continues. Determine who holds the baton and who will receive the baton at a given time.\n",
    "\n",
    "> friends = 4, time = 5  \n",
    "\n",
    "t = 0 ---------- 1-->2\n",
    "\n",
    "t = 1 ---------- 2-->3\n",
    "\n",
    "t = 2 ---------- 3-->4\n",
    "\n",
    "t = 3 ---------- 4-->3\n",
    "\n",
    "t = 4 ---------- 3-->2 \n",
    "\n",
    "t = 5 ---------- 2-->1\n",
    "\n",
    "> return [3, 2]"
   ]
  },
  {
   "cell_type": "code",
   "execution_count": 116,
   "metadata": {},
   "outputs": [
    {
     "name": "stdout",
     "output_type": "stream",
     "text": [
      "[3, 2]\n"
     ]
    }
   ],
   "source": [
    "n = 4\n",
    "t = 5\n",
    "\n",
    "dir = +1 if ((t-1)//(n-1))%2 == 0 else -1\n",
    "f = ((t-1)%(n-1))+1 if dir==1 else n-((t-1)%(n-1)) \n",
    "print([f, f+dir])"
   ]
  }
 ],
 "metadata": {
  "kernelspec": {
   "display_name": "Python 3",
   "language": "python",
   "name": "python3"
  },
  "language_info": {
   "codemirror_mode": {
    "name": "ipython",
    "version": 3
   },
   "file_extension": ".py",
   "mimetype": "text/x-python",
   "name": "python",
   "nbconvert_exporter": "python",
   "pygments_lexer": "ipython3",
   "version": "3.10.12"
  }
 },
 "nbformat": 4,
 "nbformat_minor": 2
}
