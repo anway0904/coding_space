{
 "cells": [
  {
   "cell_type": "markdown",
   "metadata": {},
   "source": [
    "# Password Verification\n",
    "\n",
    "Given a password (string of lowercase English letters), modify it so that the number of vowels is equal to the number of consonants in the least number of operations\n",
    "\n",
    "Operations: In one operation, you can either increment or decrement any character by 1 (lexicographically).\n",
    "\n",
    "Constraints:\n",
    "'a' cannot be decremented.\n",
    "'z' cannot be incremented.\n",
    "The number of letters in the password is always even."
   ]
  },
  {
   "cell_type": "code",
   "execution_count": 27,
   "metadata": {},
   "outputs": [
    {
     "name": "stdout",
     "output_type": "stream",
     "text": [
      "vowels : 3\n",
      "consonants : 8\n",
      "letters to change : 3\n"
     ]
    },
    {
     "data": {
      "text/plain": [
       "2"
      ]
     },
     "execution_count": 27,
     "metadata": {},
     "output_type": "execute_result"
    }
   ],
   "source": [
    "class VerifyPassword():\n",
    "    VOWELS = [ord('a'), ord('e'), ord('i'), ord('o'), ord('u')]\n",
    "    @staticmethod\n",
    "    def run(password:str) -> int:\n",
    "        vowels = []\n",
    "        consonants = []\n",
    "        closest_dist_to_vowel = []\n",
    "\n",
    "        for p in password:\n",
    "            if ord(p) not in VerifyPassword.VOWELS:\n",
    "                consonants.append(ord(p))\n",
    "\n",
    "                min_dist_to_vowel = 100\n",
    "                for v in VerifyPassword.VOWELS:\n",
    "                    dist_to_vowel = abs(v - ord(p))\n",
    "                    if dist_to_vowel < min_dist_to_vowel:\n",
    "                        min_dist_to_vowel = dist_to_vowel\n",
    "                \n",
    "                closest_dist_to_vowel.append(min_dist_to_vowel)\n",
    "\n",
    "            else:\n",
    "                vowels.append(ord(p))\n",
    "\n",
    "        closest_dist_to_vowel = sorted(closest_dist_to_vowel)\n",
    "        print(f\"vowels : {len(vowels)}\\nconsonants : {len(consonants)}\")\n",
    "        print(f\"letters to change : {abs((len(vowels)-len(consonants))//2)}\")\n",
    "\n",
    "        if len(vowels) == len(consonants):\n",
    "            return 0\n",
    "        \n",
    "        elif len(vowels) > len(consonants):\n",
    "            num_operations = (len(vowels)-len(consonants))//2\n",
    "            return num_operations\n",
    "            \n",
    "        else:\n",
    "            num_operations = sum(closest_dist_to_vowel[:(len(consonants)-len(vowels))//2])\n",
    "            return num_operations\n",
    "\n",
    "VerifyPassword.run(\"aeibfjkklmn\")"
   ]
  }
 ],
 "metadata": {
  "kernelspec": {
   "display_name": "Python 3",
   "language": "python",
   "name": "python3"
  },
  "language_info": {
   "codemirror_mode": {
    "name": "ipython",
    "version": 3
   },
   "file_extension": ".py",
   "mimetype": "text/x-python",
   "name": "python",
   "nbconvert_exporter": "python",
   "pygments_lexer": "ipython3",
   "version": "3.10.11"
  }
 },
 "nbformat": 4,
 "nbformat_minor": 2
}
