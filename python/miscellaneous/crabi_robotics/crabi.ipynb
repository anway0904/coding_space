{
 "cells": [
  {
   "cell_type": "markdown",
   "metadata": {},
   "source": [
    "There are 2 systems $S1, S2$ which give the pose $[x, y, \\theta]$. $S1$ is static and $S2$ moves along with the robot. The pose is the location and orientation of $S1$ in $S2$’s frame. $S1$ gives the measurement at $2.5 Hz$ and $S2$ at $10 Hz$. $S1$ is twice as accurate as $S2$. $S1$ is at location $[10, 10, 100]$ in the global frame of reference. Write a code to give the position of S2 in the global frame."
   ]
  },
  {
   "cell_type": "code",
   "execution_count": 12,
   "metadata": {},
   "outputs": [],
   "source": [
    "import csv\n",
    "import numpy as np\n",
    "from io import StringIO"
   ]
  },
  {
   "cell_type": "code",
   "execution_count": 19,
   "metadata": {},
   "outputs": [],
   "source": [
    "data_1 = np.genfromtxt(\"data_1.csv\", delimiter=\",\")\n",
    "data_2 = np.genfromtxt(\"data_2.csv\", delimiter=\",\")"
   ]
  },
  {
   "cell_type": "code",
   "execution_count": 43,
   "metadata": {},
   "outputs": [
    {
     "data": {
      "text/plain": [
       "array([[   0.11861215,    0.99294066,    0.        ,   -9.97851144],\n",
       "       [  -0.99294066,    0.11861215,    0.        ,   -9.87165841],\n",
       "       [   0.        ,    0.        ,    1.        , -100.        ],\n",
       "       [   0.        ,    0.        ,    0.        ,    1.        ]])"
      ]
     },
     "execution_count": 43,
     "metadata": {},
     "output_type": "execute_result"
    }
   ],
   "source": [
    "S1_to_G = np.array([[1, 0, 0, -10],\n",
    "                    [0, 1, 0, -10],\n",
    "                    [0, 0, 1, -100],\n",
    "                    [0, 0, 0, 1]])\n",
    "\n",
    "\n",
    "def get_transformation_S2S1(t, px, py, theta):\n",
    "    S2_to_S1 = np.array([[np.cos(theta), -np.sin(theta), 0, px],\n",
    "                         [np.sin(theta),  np.cos(theta), 0, py],\n",
    "                         [0, 0, 1, 0],\n",
    "                         [0, 0, 0, 1]])\n",
    "    \n",
    "    return S2_to_S1\n",
    "\n",
    "S2_to_G = S1_to_G @ get_transformation_S2S1(*data_1[0])\n",
    "S2_to_G"
   ]
  }
 ],
 "metadata": {
  "kernelspec": {
   "display_name": "Python 3",
   "language": "python",
   "name": "python3"
  },
  "language_info": {
   "codemirror_mode": {
    "name": "ipython",
    "version": 3
   },
   "file_extension": ".py",
   "mimetype": "text/x-python",
   "name": "python",
   "nbconvert_exporter": "python",
   "pygments_lexer": "ipython3",
   "version": "3.10.11"
  }
 },
 "nbformat": 4,
 "nbformat_minor": 2
}
