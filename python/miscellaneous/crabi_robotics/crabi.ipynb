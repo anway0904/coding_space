{
 "cells": [
  {
   "cell_type": "code",
   "execution_count": 12,
   "metadata": {},
   "outputs": [],
   "source": [
    "import csv\n",
    "import numpy as np\n",
    "from io import StringIO"
   ]
  },
  {
   "cell_type": "code",
   "execution_count": 19,
   "metadata": {},
   "outputs": [],
   "source": [
    "data_1 = np.genfromtxt(\"data_1.csv\", delimiter=\",\")\n",
    "data_2 = np.genfromtxt(\"data_2.csv\", delimiter=\",\")"
   ]
  },
  {
   "cell_type": "code",
   "execution_count": 43,
   "metadata": {},
   "outputs": [
    {
     "data": {
      "text/plain": [
       "array([[   0.11861215,    0.99294066,    0.        ,   -9.97851144],\n",
       "       [  -0.99294066,    0.11861215,    0.        ,   -9.87165841],\n",
       "       [   0.        ,    0.        ,    1.        , -100.        ],\n",
       "       [   0.        ,    0.        ,    0.        ,    1.        ]])"
      ]
     },
     "execution_count": 43,
     "metadata": {},
     "output_type": "execute_result"
    }
   ],
   "source": [
    "S1_to_G = np.array([[1, 0, 0, -10],\n",
    "                    [0, 1, 0, -10],\n",
    "                    [0, 0, 1, -100],\n",
    "                    [0, 0, 0, 1]])\n",
    "\n",
    "\n",
    "def get_transformation_S2S1(t, px, py, theta):\n",
    "    S2_to_S1 = np.array([[np.cos(theta), -np.sin(theta), 0, px],\n",
    "                         [np.sin(theta),  np.cos(theta), 0, py],\n",
    "                         [0, 0, 1, 0],\n",
    "                         [0, 0, 0, 1]])\n",
    "    \n",
    "    return S2_to_S1\n",
    "\n",
    "S2_to_G = S1_to_G @ get_transformation_S2S1(*data_1[0])\n",
    "S2_to_G"
   ]
  }
 ],
 "metadata": {
  "kernelspec": {
   "display_name": "Python 3",
   "language": "python",
   "name": "python3"
  },
  "language_info": {
   "codemirror_mode": {
    "name": "ipython",
    "version": 3
   },
   "file_extension": ".py",
   "mimetype": "text/x-python",
   "name": "python",
   "nbconvert_exporter": "python",
   "pygments_lexer": "ipython3",
   "version": "3.10.11"
  }
 },
 "nbformat": 4,
 "nbformat_minor": 2
}
