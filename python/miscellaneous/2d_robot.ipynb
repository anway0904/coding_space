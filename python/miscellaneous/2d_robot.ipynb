{
 "cells": [
  {
   "cell_type": "code",
   "execution_count": 89,
   "metadata": {},
   "outputs": [],
   "source": [
    "import matplotlib.pyplot as plt\n",
    "import numpy as np\n",
    "from enum import Enum\n",
    "\n",
    "%matplotlib tk"
   ]
  },
  {
   "cell_type": "code",
   "execution_count": 111,
   "metadata": {},
   "outputs": [],
   "source": [
    "class Plot():\n",
    "\tdef __init__(self):\n",
    "\t\tself.fig, self.ax = plt.subplots()\n",
    "\t\tself.ax.set_xlim([-1, 1])\n",
    "\t\tself.ax.set_ylim([-1, 1])\n",
    "\t\tself.ax.set_aspect('equal')\n",
    "\n",
    "\tdef robot(self, points, state):\n",
    "\t\tcenter = state[:2]\n",
    "\t\tpoints = np.vstack([points, points[0]])\n",
    "\t\tself.ax.plot(points[:,0], points[:,1], c = 'darkorange', linewidth = 3)\n",
    "\t\tself.ax.scatter(*center, c='r')\n",
    "\n",
    "class Robot():\n",
    "\tdef __init__(self):\n",
    "\t\tself.state = None\n",
    "\t\tself.robot_body_points = None\n",
    "\t\tself.plot = Plot()\n",
    "\t\tself.dt = 1.\n",
    "\n",
    "\tdef show(self):\n",
    "\t\tself.plot.robot(self.robot_body_points, self.state)\n",
    "\n",
    "\tdef reset(self):\n",
    "\t\tself.state = np.array([0., 0., 0.]) # x, y, theta\n",
    "\t\tself.robot_body_points = np.array([[-0.1, 0.1], [-0.1, -0.1], [0.2, 0]])\n",
    "\n",
    "\tdef step(self, velocity):\n",
    "\t\tassert len(velocity) == 3\n",
    "\t\t\n",
    "\t\td_theta = velocity[2]*self.dt\n",
    "\t\trot_mat = np.array([[np.cos(d_theta), -np.sin(d_theta)],\n",
    "\t\t\t\t\t \t\t[np.sin(d_theta),  np.cos(d_theta)]])\n",
    "\t\t\n",
    "\t\tself.state[:2] = (rot_mat @ (self.state[:2] + velocity[:2]))\n",
    "\t\tself.state[2] += velocity[2]*self.dt \n",
    "\n",
    "\t\tself.robot_body_points[0] = (rot_mat @ (self.robot_body_points[0] + velocity[:2]))\n",
    "\t\tself.robot_body_points[1] = (rot_mat @ (self.robot_body_points[1] + velocity[:2]))\n",
    "\t\tself.robot_body_points[2] = (rot_mat @ (self.robot_body_points[2] + velocity[:2]))\n",
    "\n",
    "\n",
    "\n",
    "robot = Robot()\n",
    "robot.reset()\n",
    "for _ in range(10):\n",
    "\trobot.step([0.1, 0., 0.2])\n",
    "\trobot.show()\n",
    "# robot.show()\n",
    "# robot.step([0.5, 0., 0.5])\n",
    "# robot.show()"
   ]
  },
  {
   "cell_type": "code",
   "execution_count": 112,
   "metadata": {},
   "outputs": [
    {
     "data": {
      "text/plain": [
       "<__main__.Plot at 0x1d7e2552b00>"
      ]
     },
     "execution_count": 112,
     "metadata": {},
     "output_type": "execute_result"
    }
   ],
   "source": [
    "Plot()"
   ]
  }
 ],
 "metadata": {
  "kernelspec": {
   "display_name": "Python 3",
   "language": "python",
   "name": "python3"
  },
  "language_info": {
   "codemirror_mode": {
    "name": "ipython",
    "version": 3
   },
   "file_extension": ".py",
   "mimetype": "text/x-python",
   "name": "python",
   "nbconvert_exporter": "python",
   "pygments_lexer": "ipython3",
   "version": "3.10.11"
  }
 },
 "nbformat": 4,
 "nbformat_minor": 2
}
