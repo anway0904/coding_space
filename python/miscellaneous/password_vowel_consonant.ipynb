{
 "cells": [
  {
   "cell_type": "markdown",
   "metadata": {},
   "source": [
    "# Password Verification\n",
    "\n",
    "Given a password (string of lowercase English letters), modify it so that the number of vowels is equal to the number of consonants in the least number of operations\n",
    "\n",
    "Operations: In one operation, you can either increment or decrement any character by 1 (lexicographically).\n",
    "\n",
    "Constraints:\n",
    "'a' cannot be decremented.\n",
    "'z' cannot be incremented.\n",
    "The number of letters in the password is always even."
   ]
  },
  {
   "cell_type": "code",
   "execution_count": 70,
   "metadata": {},
   "outputs": [
    {
     "name": "stdout",
     "output_type": "stream",
     "text": [
      "[ 97 101 105 111] [122 122]\n"
     ]
    },
    {
     "data": {
      "text/plain": [
       "-1.0"
      ]
     },
     "execution_count": 70,
     "metadata": {},
     "output_type": "execute_result"
    }
   ],
   "source": [
    "import numpy as np\n",
    "class VerifyPassword():\n",
    "    VOWELS = np.array([ord('a'), ord('e'), ord('i'), ord('o'), ord('u')], dtype=np.int8)\n",
    "    @staticmethod\n",
    "    def run(password:str) -> int:\n",
    "        vowels = np.array([], dtype=np.int8)\n",
    "        consonants = np.array([], dtype=np.int8)\n",
    "\n",
    "        num_operations = []\n",
    "\n",
    "        for p in password:\n",
    "            if ord(p) not in VerifyPassword.VOWELS:\n",
    "                consonants = np.append(consonants, ord(p))\n",
    "                min_dist_to_vowel = VerifyPassword.VOWELS - ord(p)\n",
    "                idx_min = np.abs(min_dist_to_vowel).argmin()\n",
    "                # print(p, min_dist_to_vowel[idx_min], chr(ord(p) + min_dist_to_vowel[idx_min]))\n",
    "                num_operations.append(abs(min_dist_to_vowel[idx_min]))\n",
    "\n",
    "            else:\n",
    "                vowels = np.append(vowels, ord(p))\n",
    "\n",
    "        print(vowels, consonants)\n",
    "\n",
    "        if vowels.shape == consonants.shape:\n",
    "            return 0\n",
    "        \n",
    "        elif vowels.shape > consonants.shape:\n",
    "            ans = (vowels.shape[0] - consonants.shape[0]) - (len(password)/2)\n",
    "            return ans\n",
    "            \n",
    "        else:\n",
    "            operations = (vowels.shape[0] - consonants.shape[0]) - (len(password)/2)\n",
    "            return sum(sorted(num_operations)[:operations])\n",
    "\n",
    "VerifyPassword.run(\"aeiozz\")"
   ]
  }
 ],
 "metadata": {
  "kernelspec": {
   "display_name": "Python 3",
   "language": "python",
   "name": "python3"
  },
  "language_info": {
   "codemirror_mode": {
    "name": "ipython",
    "version": 3
   },
   "file_extension": ".py",
   "mimetype": "text/x-python",
   "name": "python",
   "nbconvert_exporter": "python",
   "pygments_lexer": "ipython3",
   "version": "3.10.12"
  }
 },
 "nbformat": 4,
 "nbformat_minor": 2
}
