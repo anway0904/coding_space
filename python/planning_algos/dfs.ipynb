{
 "cells": [
  {
   "cell_type": "code",
   "execution_count": 4,
   "metadata": {},
   "outputs": [],
   "source": [
    "import numpy as np\n",
    "import matplotlib.pyplot as plt\n",
    "from collections import deque\n",
    "from IPython.display import clear_output"
   ]
  },
  {
   "cell_type": "code",
   "execution_count": 32,
   "metadata": {},
   "outputs": [],
   "source": [
    "%matplotlib tk\n",
    "\n",
    "plt.figure(figsize=(15, 15))\n",
    "grid = np.full([10, 10], 255).astype(np.uint8)\n",
    "plt.imshow(grid, cmap=\"gray\")\n",
    "\n",
    "for _ in range(1):\n",
    "    loc = np.round(plt.ginput(1)[0]).astype(np.uint8)\n",
    "    grid[loc[1]-2:loc[1]+2, loc[0]-2:loc[0]+2] = 0\n",
    "    plt.imshow(grid, cmap=\"gray\")\n",
    "\n",
    "start_coords = plt.ginput(1, show_clicks=False)[0]\n",
    "plt.scatter(start_coords[0], start_coords[1], c = 'b')\n",
    "\n",
    "goal_coords = plt.ginput(1, show_clicks=False)[0]\n",
    "plt.scatter(goal_coords[0], goal_coords[1], c = 'r')\n",
    "\n",
    "goal_loc = (int(goal_coords[1]), int(goal_coords[0]))\n",
    "start_loc = (int(start_coords[1]), int(start_coords[0]))\n",
    "\n",
    "plt.show()"
   ]
  },
  {
   "cell_type": "code",
   "execution_count": 33,
   "metadata": {},
   "outputs": [],
   "source": [
    "class Node():\n",
    "    def __init__(self, row:int, col:int, pred = None):\n",
    "        self.loc = (row, col)\n",
    "        self.predecessor = pred\n",
    "        self.visited = False\n",
    "\n",
    "    def __str__(self):\n",
    "        return(f\"loc : {self.loc}\\tpred : {self.predecessor}\")"
   ]
  },
  {
   "cell_type": "code",
   "execution_count": 36,
   "metadata": {},
   "outputs": [
    {
     "data": {
      "image/png": "[encoded data removed]",
      "text/plain": [
       "<Figure size 1080x1080 with 1 Axes>"
      ]
     },
     "metadata": {
      "needs_background": "light"
     },
     "output_type": "display_data"
    }
   ],
   "source": [
    "%matplotlib inline\n",
    "class DFS():\n",
    "    def __init__(self, grid:np.ndarray, start_loc:tuple[int, int], goal_loc:tuple[int, int]):\n",
    "        self.grid = grid\n",
    "        self.rows = grid.shape[0]\n",
    "        self.cols = grid.shape[1]\n",
    "        self.nodes = {}\n",
    "        self.start_node = Node(*start_loc)\n",
    "        self.goal_node = Node(*goal_loc)\n",
    "\n",
    "        self.fig = plt.figure(figsize=(15, 15))\n",
    "        self.ax = self.fig.add_subplot(111)\n",
    "        self.ax.imshow(grid, cmap=\"gray\")\n",
    "        self.ax.scatter(start_loc[1], start_loc[0], c='b')\n",
    "        self.ax.scatter(goal_loc[1], goal_loc[0], c='r')\n",
    "\n",
    "    def get_neighbors(self, row, col):\n",
    "        neighbors = []\n",
    "        neighbors.append((row+1, col))\n",
    "        neighbors.append((row-1, col))\n",
    "        neighbors.append((row, col+1))\n",
    "        neighbors.append((row, col-1))\n",
    "        neighbors.append((row+1, col+1))\n",
    "        neighbors.append((row-1, col-1))\n",
    "        neighbors.append((row+1, col-1))\n",
    "        neighbors.append((row-1, col+1))\n",
    "    \n",
    "        return list(filter(lambda n: not(n[0]<0 or n[1]<0 or n[0]>=self.rows or n[1]>=self.cols), neighbors))\n",
    "    \n",
    "    def recover_path(self):\n",
    "        \n",
    "        if self.goal_node.predecessor == None:\n",
    "            print(\"PATH NOT FOUND!\")\n",
    "            return\n",
    "        \n",
    "        path = []\n",
    "        curr_node = self.goal_node\n",
    "        while curr_node.predecessor != None:\n",
    "            path.append(curr_node.loc)\n",
    "            curr_node = curr_node.predecessor\n",
    "\n",
    "        return path\n",
    "    \n",
    "    def plot(self, new_node:Node):\n",
    "        clear_output(wait=True)\n",
    "        self.ax.scatter(new_node.loc[1], new_node.loc[0], c='g')\n",
    "        # plt.show()\n",
    "\n",
    "    def search(self):\n",
    "        stack = deque()\n",
    "        visited = deque()\n",
    "        \n",
    "        stack.appendleft(self.start_node)\n",
    "        \n",
    "        # while stack:\n",
    "        #     curr_node :Node = stack.popleft()\n",
    "        #     if curr_node == self.goal_node:\n",
    "        #         print(\"PATH FOUND!\")\n",
    "        #         return self.recover_path()\n",
    "\n",
    "        #     neighbors = self.get_neighbors(*curr_node.loc)\n",
    "\n",
    "        #     for n_loc in neighbors:\n",
    "        #         new_node = Node(*n_loc, pred=curr_node)\n",
    "        #         stack.appendleft(new_node)\n",
    "\n",
    "        for _ in range(1000):\n",
    "            curr_node :Node = stack.popleft()\n",
    "            visited.append(curr_node)\n",
    "\n",
    "            if curr_node == self.goal_node:\n",
    "                print(\"PATH FOUND!\")\n",
    "                return self.recover_path()\n",
    "\n",
    "            neighbors = self.get_neighbors(*curr_node.loc)\n",
    "\n",
    "            for n_loc in neighbors:\n",
    "                new_node = Node(*n_loc, pred=curr_node)\n",
    "                if new_node not in visited:\n",
    "                    stack.appendleft(new_node)\n",
    "            \n",
    "            # print(len(stack))\n",
    "            self.plot(curr_node)\n",
    "            \n",
    "            \n",
    "\n",
    "\n",
    "\n",
    "dfs = DFS(grid, start_loc, goal_loc)           \n",
    "dfs.search() "
   ]
  },
  {
   "cell_type": "code",
   "execution_count": 27,
   "metadata": {},
   "outputs": [
    {
     "name": "stdout",
     "output_type": "stream",
     "text": [
      "deque([])\n"
     ]
    }
   ],
   "source": [
    "s = deque()\n",
    "s.appendleft(5)\n",
    "\n",
    "while s:\n",
    "    s.popleft()\n",
    "    print(s)"
   ]
  }
 ],
 "metadata": {
  "kernelspec": {
   "display_name": "Python 3",
   "language": "python",
   "name": "python3"
  },
  "language_info": {
   "codemirror_mode": {
    "name": "ipython",
    "version": 3
   },
   "file_extension": ".py",
   "mimetype": "text/x-python",
   "name": "python",
   "nbconvert_exporter": "python",
   "pygments_lexer": "ipython3",
   "version": "3.10.12"
  }
 },
 "nbformat": 4,
 "nbformat_minor": 2
}
