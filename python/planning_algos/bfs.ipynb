{
 "cells": [
  {
   "cell_type": "code",
   "execution_count": 27,
   "metadata": {},
   "outputs": [],
   "source": [
    "import numpy as np\n",
    "import matplotlib.pyplot as plt\n",
    "from collections import deque\n",
    "from IPython.display import clear_output"
   ]
  },
  {
   "cell_type": "code",
   "execution_count": 31,
   "metadata": {},
   "outputs": [
    {
     "name": "stdout",
     "output_type": "stream",
     "text": [
      "start_loc = (8, 32)\n",
      "goal_loc = (93, 97)\n"
     ]
    }
   ],
   "source": [
    "%matplotlib tk\n",
    "\n",
    "plt.figure(figsize=(15, 15))\n",
    "grid = np.full([100, 100], 255).astype(np.uint8)\n",
    "plt.imshow(grid, cmap=\"gray\")\n",
    "obstacle_size = 3\n",
    "num_obstacles = 8\n",
    "\n",
    "for _ in range(num_obstacles):\n",
    "    loc = np.round(plt.ginput(1)[0]).astype(np.uint8)\n",
    "    \n",
    "    grid[loc[1]-obstacle_size:loc[1]+obstacle_size, \n",
    "         loc[0]-obstacle_size:loc[0]+obstacle_size] = 0\n",
    "    \n",
    "    plt.imshow(grid, cmap=\"gray\")\n",
    "\n",
    "start_coords = plt.ginput(1, show_clicks=False)[0]\n",
    "plt.scatter(start_coords[0], start_coords[1], c = 'b')\n",
    "\n",
    "goal_coords = plt.ginput(1, show_clicks=False)[0]\n",
    "plt.scatter(goal_coords[0], goal_coords[1], c = 'r')\n",
    "\n",
    "goal_loc = (int(goal_coords[1]), int(goal_coords[0]))\n",
    "start_loc = (int(start_coords[1]), int(start_coords[0]))\n",
    "\n",
    "plt.show()\n",
    "print(f\"{start_loc = }\")\n",
    "print(f\"{goal_loc = }\")"
   ]
  },
  {
   "cell_type": "code",
   "execution_count": 37,
   "metadata": {},
   "outputs": [
    {
     "name": "stdout",
     "output_type": "stream",
     "text": [
      "PATH FOUND!\n"
     ]
    },
    {
     "data": {
      "image/png": "[encoded data removed]",
      "text/plain": [
       "<Figure size 720x720 with 1 Axes>"
      ]
     },
     "metadata": {
      "needs_background": "light"
     },
     "output_type": "display_data"
    }
   ],
   "source": [
    "%matplotlib inline\n",
    "class BFS():\n",
    "    def __init__(self, grid: np.ndarray, start_loc: tuple[int, int], goal_loc: tuple[int, int]):\n",
    "        self.grid = grid\n",
    "        self.rows, self.cols = grid.shape\n",
    "        self.start_loc = start_loc\n",
    "        self.goal_loc = goal_loc\n",
    "\n",
    "    def get_neighbors(self, row: int, col: int):\n",
    "        \"\"\"Get valid neighbors of the current cell.\"\"\"\n",
    "        neighbors = [\n",
    "            (row+1, col), (row, col+1), (row-1, col), (row, col-1),  # 4-way neighbors\n",
    "            (row+1, col+1), (row+1, col-1), (row-1, col+1), (row-1, col-1)  # Diagonal\n",
    "        ]\n",
    "        # Filter neighbors to stay within grid bounds\n",
    "        neighbors = filter(\n",
    "            lambda n: not (n[0] < 0 or n[1] < 0 or n[0] >= self.rows or n[1] >= self.cols), \n",
    "            neighbors\n",
    "        )\n",
    "        return list(neighbors)\n",
    "\n",
    "    def recover_path(self, pred):\n",
    "        \"\"\"Recover the path from the goal back to the start.\"\"\"\n",
    "        curr_loc = self.goal_loc\n",
    "        path = []\n",
    "        while curr_loc is not None:\n",
    "            path.append(curr_loc)\n",
    "            curr_loc = pred.get(curr_loc)\n",
    "        return path[::-1]  # Reverse to get path from start to goal\n",
    "    \n",
    "    def plot(self, path):\n",
    "        \"\"\"Visualize the grid and the found path.\"\"\"\n",
    "        x = [p[1] for p in path]\n",
    "        y = [p[0] for p in path]\n",
    "        \n",
    "        plt.figure(figsize=(10, 10))\n",
    "        plt.imshow(self.grid, cmap=\"gray\")\n",
    "        plt.plot(x, y, c='orange', linewidth=3)\n",
    "        plt.scatter(start_loc[1], start_loc[0], c='b')\n",
    "        plt.scatter(goal_loc[1], goal_loc[0], c='r')\n",
    "        plt.title(\"Path Visualization\")\n",
    "        plt.show()\n",
    "\n",
    "    def search(self):\n",
    "        \"\"\"Perform BFS to find the shortest path.\"\"\"\n",
    "        visited = set()  # Keep track of visited nodes\n",
    "        queue = deque()  # Queue for BFS\n",
    "        predecessors = {self.start_loc: None}  # To reconstruct the path\n",
    "\n",
    "        queue.append(self.start_loc)  # Start BFS from the start location\n",
    "\n",
    "        while queue:\n",
    "            curr_loc = queue.popleft()  # BFS uses popleft (FIFO)\n",
    "            if curr_loc in visited:\n",
    "                continue\n",
    "            visited.add(curr_loc)\n",
    "\n",
    "            if curr_loc == self.goal_loc:\n",
    "                print(\"PATH FOUND!\")\n",
    "                return self.recover_path(predecessors)\n",
    "\n",
    "            # Add valid neighbors to the queue\n",
    "            for n_loc in self.get_neighbors(*curr_loc):\n",
    "                if n_loc not in visited and self.grid[n_loc]: \n",
    "                    queue.append(n_loc)\n",
    "                    if n_loc not in predecessors:\n",
    "                        predecessors[n_loc] = curr_loc\n",
    "        \n",
    "        print(\"NO PATH FOUND!\")\n",
    "        return None\n",
    "\n",
    "\n",
    "bfs = BFS(grid, start_loc, goal_loc)\n",
    "path = bfs.search()\n",
    "if path:\n",
    "    bfs.plot(path)"
   ]
  }
 ],
 "metadata": {
  "kernelspec": {
   "display_name": "Python 3",
   "language": "python",
   "name": "python3"
  },
  "language_info": {
   "codemirror_mode": {
    "name": "ipython",
    "version": 3
   },
   "file_extension": ".py",
   "mimetype": "text/x-python",
   "name": "python",
   "nbconvert_exporter": "python",
   "pygments_lexer": "ipython3",
   "version": "3.10.12"
  }
 },
 "nbformat": 4,
 "nbformat_minor": 2
}
